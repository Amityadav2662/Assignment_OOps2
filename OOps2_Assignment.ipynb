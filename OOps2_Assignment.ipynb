{
 "cells": [
  {
   "cell_type": "code",
   "execution_count": null,
   "id": "d904df86-7313-492b-acb6-727e684ce9db",
   "metadata": {},
   "outputs": [],
   "source": [
    "# Q1. What is Abstraction in OOps? Explain with an example.\n",
    "Ans.\n",
    "Abstraction is a fundamental concept in object-oriented programming (OOP) that focuses on simplifying complex\n",
    "systems by representing only essential features and hiding unnecessary details. "
   ]
  },
  {
   "cell_type": "code",
   "execution_count": 29,
   "id": "eeb94ded-3244-4fe9-b811-97c2321cc4a9",
   "metadata": {},
   "outputs": [],
   "source": [
    "# Example In this program first create class and put into abstract class then we can access that data next we can allow\n",
    "# the user to interact the data in MobileApp class\n",
    "\n",
    "from abc import ABC,abstractmethod\n",
    "class BankApp(ABC):\n",
    "    def database(self):\n",
    "        print(\"Connect to the database\")\n",
    "    \n",
    "    @abstractmethod\n",
    "    def security(self):\n",
    "        pass\n",
    "\n",
    "    @abstractmethod\n",
    "    def display(self):\n",
    "        pass\n",
    "    \n",
    "class MobileApp(BankApp):\n",
    "    def mobile_login(self):\n",
    "        print(\"login the account\")\n",
    "    \n",
    "    def security(self):\n",
    "        print(\"Mobile Security\")\n",
    "    \n",
    "    def display(self):\n",
    "        print(\"Display the screen\")\n",
    "    \n",
    "mob = MobileApp()"
   ]
  },
  {
   "cell_type": "code",
   "execution_count": 22,
   "id": "20349efc-b9da-434e-9ec1-c5c14756e118",
   "metadata": {},
   "outputs": [
    {
     "name": "stdout",
     "output_type": "stream",
     "text": [
      "Connect to the database\n"
     ]
    }
   ],
   "source": [
    "mob.database()"
   ]
  },
  {
   "cell_type": "code",
   "execution_count": 26,
   "id": "8941076c-3ad9-4a77-9920-cc0c53ed6e8b",
   "metadata": {},
   "outputs": [
    {
     "name": "stdout",
     "output_type": "stream",
     "text": [
      "login the account\n"
     ]
    }
   ],
   "source": [
    "mob.mobile_login()"
   ]
  },
  {
   "cell_type": "code",
   "execution_count": null,
   "id": "edb483d8-caba-4efe-9728-36305b84b936",
   "metadata": {},
   "outputs": [],
   "source": [
    "# Q2.Differentiate between Abstraction and Encapsulation. Explain with an example.\n",
    "Ans.\n",
    "Abstraction : Abstraction is a fundamental concept in object-oriented programming (OOP) that focuses on simplifying complex\n",
    "systems by representing only essential features and hiding unnecessary details. \n",
    "\n",
    "Encapsulation: Encapsulation focuses on bundling data and methods into a single unit called a class, and controlling access\n",
    "to the data through methods. It ensures that the internal state of an object is protected from direct external access, and \n",
    "interactions with the object are performed through well-defined interfaces."
   ]
  },
  {
   "cell_type": "code",
   "execution_count": 30,
   "id": "7caef6b5-0291-4437-8879-a17be54ebc62",
   "metadata": {},
   "outputs": [],
   "source": [
    "# Abstraction Example I am considering the above example of abstraction.\n",
    "from abc import ABC,abstractmethod\n",
    "class BankApp(ABC):\n",
    "    def database(self):\n",
    "        print(\"Connect to the database\")\n",
    "    \n",
    "    @abstractmethod\n",
    "    def security(self):\n",
    "        pass\n",
    "\n",
    "    @abstractmethod\n",
    "    def display(self):\n",
    "        pass\n",
    "    \n",
    "class MobileApp(BankApp):\n",
    "    def mobile_login(self):\n",
    "        print(\"login the account\")\n",
    "    \n",
    "    def security(self):\n",
    "        print(\"Mobile Security\")\n",
    "    \n",
    "    def display(self):\n",
    "        print(\"Display the screen\")\n",
    "    \n",
    "mob = MobileApp()"
   ]
  },
  {
   "cell_type": "code",
   "execution_count": 32,
   "id": "44912ed2-10b9-45f7-af19-a617b49f0399",
   "metadata": {},
   "outputs": [
    {
     "name": "stdout",
     "output_type": "stream",
     "text": [
      "Display the screen\n"
     ]
    }
   ],
   "source": [
    "mob.display()"
   ]
  },
  {
   "cell_type": "code",
   "execution_count": 46,
   "id": "121c07f0-debe-4bb7-940a-2c6e0424aa5f",
   "metadata": {},
   "outputs": [
    {
     "name": "stdout",
     "output_type": "stream",
     "text": [
      "The overall deposit is 2500\n",
      "2300\n"
     ]
    }
   ],
   "source": [
    "# Encapsulation as you seen in this program i am using private method to restrict anyone to access the code but using\n",
    "#getter method I can access the code.\n",
    "class Bank:\n",
    "    def __init__(self,Account_Number,Balance):\n",
    "        self.Account_Number = Account_Number\n",
    "        self.__Balance = Balance\n",
    "        \n",
    "    def deposit(self,amount):\n",
    "        self.__Balance = self.__Balance + amount\n",
    "        print(\"The overall deposit is {}\".format(self.__Balance))\n",
    "        \n",
    "    def Withdrawal(self,amount):\n",
    "        if self.__Balance >= amount:\n",
    "            self.__Balance = self.__Balance - amount\n",
    "        else:\n",
    "            print(\"Insufficient balance\")\n",
    "            \n",
    "    def get_balance(self):\n",
    "        return self.__Balance\n",
    "    \n",
    "account = Bank(\"1267823\",2000)\n",
    "account.deposit(500)\n",
    "account.Withdrawal(200)\n",
    "print(account.get_balance())"
   ]
  },
  {
   "cell_type": "code",
   "execution_count": null,
   "id": "56915515-1116-4ec3-af06-c232cb3faf99",
   "metadata": {},
   "outputs": [],
   "source": [
    "# Q3.What is abc module in python? Why is it used?\n",
    "Ans.\n",
    "The abc module in Python stands for \"Abstract Base Classes.\" It provides a way to define abstract classes in Python, \n",
    "which are classes that cannot be instantiated directly but serve as a blueprint for childclasses. Abstract classes are \n",
    "used to define common interfaces, establish common methods, and enforce certain behaviors across related classes.\n",
    "The abc module is used for creating abstract classes and interfaces using the ABC class and the abstractmethod decorator. "
   ]
  },
  {
   "cell_type": "code",
   "execution_count": null,
   "id": "06f1e847-24f1-4d19-9407-73122d9ab050",
   "metadata": {},
   "outputs": [],
   "source": [
    "# Q4.How can we achieve data abstraction?\n",
    "Ans.\n",
    "Data abstraction can be achieve by using abstract class and interface. Abstract classes are classes that cannot be \n",
    "instantiated directly and serve as a blueprint for childclasses and the Interfaces define a contract specifying a set\n",
    "of methods that a class must implement without specifying their implementation details."
   ]
  },
  {
   "cell_type": "code",
   "execution_count": null,
   "id": "59299b70-91e3-445f-b5ac-b7b6e739714a",
   "metadata": {},
   "outputs": [],
   "source": [
    "# Q5.Can we create an instance of an abstract class? Explain your answer.\n",
    "Ans.\n",
    "No, we cannot create an instance of an abstract class in Python. Abstract classes are designed to be incomplete and\n",
    "serve as blueprints for childclasses to provide their own implementations of abstract methods"
   ]
  }
 ],
 "metadata": {
  "kernelspec": {
   "display_name": "Python 3 (ipykernel)",
   "language": "python",
   "name": "python3"
  },
  "language_info": {
   "codemirror_mode": {
    "name": "ipython",
    "version": 3
   },
   "file_extension": ".py",
   "mimetype": "text/x-python",
   "name": "python",
   "nbconvert_exporter": "python",
   "pygments_lexer": "ipython3",
   "version": "3.10.8"
  }
 },
 "nbformat": 4,
 "nbformat_minor": 5
}
